{
 "cells": [
  {
   "cell_type": "code",
   "execution_count": 1,
   "metadata": {
    "collapsed": true
   },
   "outputs": [],
   "source": [
    "import os\n",
    "import math\n",
    "import random\n",
    "\n",
    "import json\n",
    "import numpy as np\n",
    "import mxnet as mx"
   ]
  },
  {
   "cell_type": "code",
   "execution_count": 2,
   "metadata": {
    "collapsed": true
   },
   "outputs": [],
   "source": [
    "def Conv(data, num_filter=1, kernel=(1, 1), stride=(1, 1), pad=(0, 0), num_group=1, name=None, suffix=''):\n",
    "    conv = mx.sym.Convolution(data=data, num_filter=num_filter, kernel=kernel, num_group=num_group, stride=stride, pad=pad, no_bias=True, name='%s' % name)\n",
    "    bn = mx.sym.BatchNorm(data=conv, name='%s_bn' % name, fix_gamma=False, use_global_stats=True, eps=0.0001, attr={'lr_mult': '0.1'})\n",
    "    act = mx.sym.Activation(data=bn, act_type='relu', name='%s_relu' % name )\n",
    "    return act\n",
    "\n",
    "def mobile_net():\n",
    "    data = mx.symbol.Variable(name='data')\n",
    "    conv1 = Conv(data, num_filter=32, kernel=(3, 3), pad=(1, 1), stride=(2, 2), name=\"conv1\") # 224/112\n",
    "    \n",
    "    conv2_1_dw = Conv(conv1, num_group=32, num_filter=32, kernel=(3, 3), pad=(1, 1), stride=(1, 1), name=\"conv2_1_dw\") # 112/112\n",
    "    conv2_1_sep = Conv(conv2_1_dw, num_filter=64, kernel=(1, 1), pad=(0, 0), stride=(1, 1), name=\"conv2_1_sep\") # 112/112\n",
    "    conv2_2_dw = Conv(conv2_1_sep, num_group=64, num_filter=64, kernel=(3, 3), pad=(1, 1), stride=(2, 2), name=\"conv2_2_dw\") # 112/56\n",
    "    conv2_2_sep = Conv(conv2_2_dw, num_filter=128, kernel=(1, 1), pad=(0, 0), stride=(1, 1), name=\"conv2_2_sep\") # 56/56\n",
    "    \n",
    "    conv3_1_dw = Conv(conv2_2_sep, num_group=128, num_filter=128, kernel=(3, 3), pad=(1, 1), stride=(1, 1), name=\"conv3_1_dw\") # 56/56\n",
    "    conv3_1_sep = Conv(conv3_1_dw, num_filter=128, kernel=(1, 1), pad=(0, 0), stride=(1, 1), name=\"conv3_1_sep\") # 56/56\n",
    "    conv3_2_dw = Conv(conv3_1_sep, num_group=128, num_filter=128, kernel=(3, 3), pad=(1, 1), stride=(2, 2), name=\"conv3_2_dw\") # 56/28\n",
    "    conv3_2_sep = Conv(conv3_2_dw, num_filter=256, kernel=(1, 1), pad=(0, 0), stride=(1, 1), name=\"conv3_2_sep\") # 28/28\n",
    "    \n",
    "    conv4_1_dw = Conv(conv3_2_sep, num_group=256, num_filter=256, kernel=(3, 3), pad=(1, 1), stride=(1, 1), name=\"conv4_1_dw\") # 28/28\n",
    "    conv4_1_sep = Conv(conv4_1_dw, num_filter=256, kernel=(1, 1), pad=(0, 0), stride=(1, 1), name=\"conv4_1_sep\") # 28/28\n",
    "    conv4_2_dw = Conv(conv4_1_sep, num_group=256, num_filter=256, kernel=(3, 3), pad=(1, 1), stride=(2, 2), name=\"conv4_2_dw\") # 28/14\n",
    "    conv4_2_sep = Conv(conv4_2_dw, num_filter=512, kernel=(1, 1), pad=(0, 0), stride=(1, 1), name=\"conv4_2_sep\") # 14/14\n",
    "\n",
    "    conv5_1_dw = Conv(conv4_2_sep, num_group=512, num_filter=512, kernel=(3, 3), pad=(1, 1), stride=(1, 1), name=\"conv5_1_dw\") # 14/14\n",
    "    conv5_1_sep = Conv(conv5_1_dw, num_filter=512, kernel=(1, 1), pad=(0, 0), stride=(1, 1), name=\"conv5_1_sep\") # 14/14\n",
    "    conv5_2_dw = Conv(conv5_1_sep, num_group=512, num_filter=512, kernel=(3, 3), pad=(1, 1), stride=(1, 1), name=\"conv5_2_dw\") # 14/14\n",
    "    conv5_2_sep = Conv(conv5_2_dw, num_filter=512, kernel=(1, 1), pad=(0, 0), stride=(1, 1), name=\"conv5_2_sep\") # 14/14\n",
    "    conv5_3_dw = Conv(conv5_2_sep, num_group=512, num_filter=512, kernel=(3, 3), pad=(1, 1), stride=(1, 1), name=\"conv5_3_dw\") # 14/14\n",
    "    conv5_3_sep = Conv(conv5_3_dw, num_filter=512, kernel=(1, 1), pad=(0, 0), stride=(1, 1), name=\"conv5_3_sep\") # 14/14\n",
    "    conv5_4_dw = Conv(conv5_3_sep, num_group=512, num_filter=512, kernel=(3, 3), pad=(1, 1), stride=(1, 1), name=\"conv5_4_dw\") # 14/14\n",
    "    conv5_4_sep = Conv(conv5_4_dw, num_filter=512, kernel=(1, 1), pad=(0, 0), stride=(1, 1), name=\"conv5_4_sep\") # 14/14\n",
    "    conv5_5_dw = Conv(conv5_4_sep, num_group=512, num_filter=512, kernel=(3, 3), pad=(1, 1), stride=(1, 1), name=\"conv5_5_dw\") # 14/14\n",
    "    conv5_5_sep = Conv(conv5_5_dw, num_filter=512, kernel=(1, 1), pad=(0, 0), stride=(1, 1), name=\"conv5_5_sep\") # 14/14\n",
    "    conv5_6_dw = Conv(conv5_5_sep, num_group=512, num_filter=512, kernel=(3, 3), pad=(1, 1), stride=(2, 2), name=\"conv5_6_dw\") # 14/7\n",
    "    conv5_6_sep = Conv(conv5_6_dw, num_filter=1024, kernel=(1, 1), pad=(0, 0), stride=(1, 1), name=\"conv5_6_sep\") # 7/7\n",
    "    \n",
    "    conv6_dw = Conv(conv5_6_sep, num_group=1024, num_filter=1024, kernel=(3, 3), pad=(1, 1), stride=(1, 1), name=\"conv6_dw\") # 7/7\n",
    "    conv6_sep = Conv(conv6_dw, num_filter=1024, kernel=(1, 1), pad=(0, 0), stride=(1, 1), name=\"conv6_sep\") # 7/7\n",
    "    \n",
    "    pool6 = mx.symbol.Pooling(name='pool6', data=conv6_sep , pooling_convention='full', global_pool=True, kernel=(1,1), pool_type='avg')\n",
    "    \n",
    "    fc7 = mx.symbol.Convolution(name='fc7', data=pool6 , num_filter=1000, pad=(0, 0), kernel=(1,1), stride=(1,1), no_bias=False)\n",
    "    flatten = mx.symbol.Flatten(data=fc7, name='flatten')\n",
    "    softmax = mx.symbol.SoftmaxOutput(data=flatten, name='softmax')\n",
    "    return softmax\n",
    "    "
   ]
  },
  {
   "cell_type": "code",
   "execution_count": 3,
   "metadata": {
    "collapsed": true
   },
   "outputs": [],
   "source": [
    "sym = mobile_net()"
   ]
  },
  {
   "cell_type": "code",
   "execution_count": 4,
   "metadata": {
    "collapsed": true
   },
   "outputs": [],
   "source": [
    "params = mx.nd.load('mobilenet-0000.params')"
   ]
  },
  {
   "cell_type": "code",
   "execution_count": 5,
   "metadata": {
    "collapsed": true
   },
   "outputs": [],
   "source": [
    "graph=json.loads(sym.tojson())"
   ]
  },
  {
   "cell_type": "code",
   "execution_count": 6,
   "metadata": {},
   "outputs": [],
   "source": [
    "arg_params = {}\n",
    "aux_params = {}\n",
    "for i, n in enumerate(graph['nodes']):\n",
    "    if n['op'] == 'Convolution' or n['op'] == 'FullyConnected':\n",
    "        arg_params[n['name']+'_weight'] = params['arg:'+n['name']+'_weight']\n",
    "        if not n['attr'].has_key('no_bias') or n['attr']['no_bias'] == 'False':\n",
    "            arg_params[n['name']+'_bias'] = params['arg:'+n['name']+'_bias']\n",
    "    elif n['op'] == 'BatchNorm':\n",
    "        arg_params[n['name']+'_gamma'] = params['arg:'+n['name']+'_gamma']\n",
    "        arg_params[n['name']+'_beta'] = params['arg:'+n['name']+'_beta']\n",
    "        aux_params[n['name']+'_moving_mean'] = params['aux:'+n['name']+'_moving_mean']\n",
    "        aux_params[n['name']+'_moving_var'] = params['aux:'+n['name']+'_moving_var']\n",
    "    else:\n",
    "        pass"
   ]
  },
  {
   "cell_type": "code",
   "execution_count": 7,
   "metadata": {
    "collapsed": true
   },
   "outputs": [],
   "source": [
    "mean = [123.68,116.78,103.94]\n",
    "scale = 0.017"
   ]
  },
  {
   "cell_type": "code",
   "execution_count": 8,
   "metadata": {
    "collapsed": true,
    "scrolled": true
   },
   "outputs": [],
   "source": [
    "model = mx.mod.Module(symbol=sym, data_names=['data'], label_names=None)\n",
    "model.bind(data_shapes=[('data', (1, 3, 224, 224))])\n",
    "model.set_params(arg_params=arg_params, aux_params=aux_params, allow_missing=True)\n",
    "model.save_checkpoint('mbn', 0)"
   ]
  },
  {
   "cell_type": "code",
   "execution_count": null,
   "metadata": {
    "collapsed": true
   },
   "outputs": [],
   "source": []
  },
  {
   "cell_type": "code",
   "execution_count": null,
   "metadata": {
    "collapsed": true
   },
   "outputs": [],
   "source": []
  },
  {
   "cell_type": "code",
   "execution_count": null,
   "metadata": {
    "collapsed": true
   },
   "outputs": [],
   "source": []
  },
  {
   "cell_type": "code",
   "execution_count": null,
   "metadata": {
    "collapsed": true
   },
   "outputs": [],
   "source": []
  }
 ],
 "metadata": {
  "kernelspec": {
   "display_name": "Python 2",
   "language": "python",
   "name": "python2"
  },
  "language_info": {
   "codemirror_mode": {
    "name": "ipython",
    "version": 2
   },
   "file_extension": ".py",
   "mimetype": "text/x-python",
   "name": "python",
   "nbconvert_exporter": "python",
   "pygments_lexer": "ipython2",
   "version": "2.7.12"
  }
 },
 "nbformat": 4,
 "nbformat_minor": 2
}
