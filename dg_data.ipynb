{
 "cells": [
  {
   "cell_type": "code",
   "execution_count": 1,
   "metadata": {
    "collapsed": true
   },
   "outputs": [],
   "source": [
    "import os\n",
    "import cv2\n",
    "from xml.etree import ElementTree as ET\n",
    "import matplotlib.pyplot as plt\n",
    "import json"
   ]
  },
  {
   "cell_type": "code",
   "execution_count": 2,
   "metadata": {
    "collapsed": true
   },
   "outputs": [],
   "source": [
    "img_path = '/mnt/6B133E147DED759E/Archive2017.8.16'\n",
    "#xml_files = []\n",
    "#img_files = []\n",
    "anno_dict = {}\n",
    "for root, dirs, files in os.walk(img_path):\n",
    "    for name in files:\n",
    "        if name.endswith(\".xml\"):\n",
    "            anno_dict[os.path.join(root, name)] = os.path.join(root, name[:-4]+'.jpg')\n",
    "            "
   ]
  },
  {
   "cell_type": "code",
   "execution_count": null,
   "metadata": {
    "collapsed": true
   },
   "outputs": [],
   "source": []
  },
  {
   "cell_type": "code",
   "execution_count": 3,
   "metadata": {
    "collapsed": true
   },
   "outputs": [],
   "source": [
    "dst_path = '/mnt/6B133E147DED759E/Archive2017.8.16_res'\n",
    "xpad = 100\n",
    "ypad = 50\n",
    "scale = 0.4\n",
    "new_annos = []"
   ]
  },
  {
   "cell_type": "code",
   "execution_count": null,
   "metadata": {
    "collapsed": true
   },
   "outputs": [],
   "source": []
  },
  {
   "cell_type": "code",
   "execution_count": 4,
   "metadata": {
    "collapsed": true
   },
   "outputs": [],
   "source": [
    "k = 0\n",
    "for annoiter in anno_dict.iteritems():\n",
    "    img = cv2.imread(annoiter[1])\n",
    "    #img = cv2.cvtColor(img, cv2.COLOR_BGR2RGB)\n",
    "    anno = ET.parse(annoiter[0])\n",
    "    obj_node=anno.getiterator(\"object\")\n",
    "    rects = []\n",
    "    for obj in obj_node:\n",
    "        bndbox = obj.find('bndbox')\n",
    "        name = obj.find('name')\n",
    "        if name.text =='obj' or name.text == 'x':\n",
    "            c = 0\n",
    "        else:\n",
    "            c = 1\n",
    "        xmin = int(bndbox.find('xmin').text)\n",
    "        ymin = int(bndbox.find('ymin').text)\n",
    "        xmax = int(bndbox.find('xmax').text)\n",
    "        ymax = int(bndbox.find('ymax').text)\n",
    "        \n",
    "        xmin_inner = max(0,int(xmin - xpad))\n",
    "        ymin_inner = max(0,int(ymin - ypad))\n",
    "        xmax_inner = min(img.shape[1]-1, int(xmax + xpad))\n",
    "        ymax_inner = min(img.shape[0]-1, int(ymax + ypad))\n",
    "        \n",
    "        roi = img[ymin_inner:ymax_inner+1, xmin_inner:xmax_inner+1,:]\n",
    "        roi = cv2.resize(roi, (0,0), fx=scale, fy=scale)\n",
    "        \n",
    "        xmin = (xmin -xmin_inner)*scale\n",
    "        xmax = (xmax -xmin_inner)*scale\n",
    "        ymin = (ymin- ymin_inner)*scale\n",
    "        ymax = (ymax -ymin_inner)*scale\n",
    "        \n",
    "        xmin = max(0,int(xmin))\n",
    "        ymin = max(0,int(ymin))\n",
    "        xmax = min(roi.shape[1]-1, int(xmax))\n",
    "        ymax = min(roi.shape[0]-1, int(ymax))\n",
    "        \n",
    "        cv2.imwrite(dst_path+'/'+str(k) + '.jpg', roi)\n",
    "        \n",
    "        new_annos.append({'filename': str(k) + '.jpg', 'type': c, 'xmin':xmin, 'ymin':ymin, 'xmax':xmax, 'ymax':ymax})\n",
    "        k = k + 1\n",
    "#         rects.append(((xmin, ymin), (xmax, ymax), c))\n",
    "#     for r in rects:\n",
    "#         if r[2]:\n",
    "#             cv2.rectangle(img, r[0], r[1], (255,0,0),16)\n",
    "#         else:\n",
    "#             cv2.rectangle(img, r[0], r[1], (0,255,0),16)\n",
    "#     plt.imshow(img)\n",
    "#     plt.show()"
   ]
  },
  {
   "cell_type": "code",
   "execution_count": 5,
   "metadata": {
    "collapsed": true
   },
   "outputs": [],
   "source": [
    "with open(dst_path + '/data.json', 'w') as json_file:\n",
    "    json_file.write(json.dumps(new_annos))"
   ]
  },
  {
   "cell_type": "code",
   "execution_count": null,
   "metadata": {
    "collapsed": true
   },
   "outputs": [],
   "source": []
  },
  {
   "cell_type": "code",
   "execution_count": null,
   "metadata": {
    "collapsed": true
   },
   "outputs": [],
   "source": []
  },
  {
   "cell_type": "code",
   "execution_count": null,
   "metadata": {
    "collapsed": true
   },
   "outputs": [],
   "source": []
  },
  {
   "cell_type": "code",
   "execution_count": null,
   "metadata": {
    "collapsed": true
   },
   "outputs": [],
   "source": []
  },
  {
   "cell_type": "code",
   "execution_count": null,
   "metadata": {
    "collapsed": true
   },
   "outputs": [],
   "source": []
  },
  {
   "cell_type": "code",
   "execution_count": null,
   "metadata": {
    "collapsed": true
   },
   "outputs": [],
   "source": []
  },
  {
   "cell_type": "code",
   "execution_count": null,
   "metadata": {
    "collapsed": true
   },
   "outputs": [],
   "source": []
  },
  {
   "cell_type": "code",
   "execution_count": null,
   "metadata": {
    "collapsed": true
   },
   "outputs": [],
   "source": []
  },
  {
   "cell_type": "code",
   "execution_count": null,
   "metadata": {
    "collapsed": true
   },
   "outputs": [],
   "source": []
  },
  {
   "cell_type": "code",
   "execution_count": null,
   "metadata": {
    "collapsed": true
   },
   "outputs": [],
   "source": []
  },
  {
   "cell_type": "code",
   "execution_count": null,
   "metadata": {
    "collapsed": true
   },
   "outputs": [],
   "source": []
  },
  {
   "cell_type": "code",
   "execution_count": null,
   "metadata": {
    "collapsed": true
   },
   "outputs": [],
   "source": []
  },
  {
   "cell_type": "code",
   "execution_count": null,
   "metadata": {
    "collapsed": true
   },
   "outputs": [],
   "source": []
  },
  {
   "cell_type": "code",
   "execution_count": null,
   "metadata": {
    "collapsed": true
   },
   "outputs": [],
   "source": []
  }
 ],
 "metadata": {
  "kernelspec": {
   "display_name": "Python 2",
   "language": "python",
   "name": "python2"
  },
  "language_info": {
   "codemirror_mode": {
    "name": "ipython",
    "version": 2
   },
   "file_extension": ".py",
   "mimetype": "text/x-python",
   "name": "python",
   "nbconvert_exporter": "python",
   "pygments_lexer": "ipython2",
   "version": "2.7.12"
  }
 },
 "nbformat": 4,
 "nbformat_minor": 2
}
