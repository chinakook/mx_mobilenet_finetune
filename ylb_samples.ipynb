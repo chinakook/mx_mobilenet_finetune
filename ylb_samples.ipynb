{
 "cells": [
  {
   "cell_type": "code",
   "execution_count": 1,
   "metadata": {
    "collapsed": true
   },
   "outputs": [],
   "source": [
    "import os\n",
    "import math"
   ]
  },
  {
   "cell_type": "code",
   "execution_count": 2,
   "metadata": {
    "collapsed": true
   },
   "outputs": [],
   "source": [
    "import numpy as np\n",
    "import mxnet as mx\n",
    "import json\n",
    "import matplotlib.pyplot as plt\n",
    "import cv2"
   ]
  },
  {
   "cell_type": "code",
   "execution_count": 3,
   "metadata": {
    "collapsed": true,
    "scrolled": true
   },
   "outputs": [],
   "source": [
    "import random\n",
    "from shapely.geometry import LineString"
   ]
  },
  {
   "cell_type": "code",
   "execution_count": null,
   "metadata": {
    "collapsed": true
   },
   "outputs": [],
   "source": []
  },
  {
   "cell_type": "code",
   "execution_count": null,
   "metadata": {
    "collapsed": true
   },
   "outputs": [],
   "source": []
  },
  {
   "cell_type": "code",
   "execution_count": 4,
   "metadata": {
    "collapsed": true
   },
   "outputs": [],
   "source": [
    "dat_path = '/mnt/6B133E147DED759E/tmp/ylb/zp'\n",
    "mask_path = '/mnt/6B133E147DED759E/tmp/ylb/zp_mask'"
   ]
  },
  {
   "cell_type": "code",
   "execution_count": 5,
   "metadata": {
    "collapsed": true,
    "scrolled": true
   },
   "outputs": [],
   "source": [
    "with open(dat_path + '/bj2.json') as f:\n",
    "    db = json.load(f)"
   ]
  },
  {
   "cell_type": "code",
   "execution_count": 6,
   "metadata": {
    "collapsed": true
   },
   "outputs": [],
   "source": [
    "imgfiles = [i for i in os.listdir(dat_path) if i.endswith('.jpg')]\n",
    "maskfiles = [i for i in os.listdir(mask_path) if i.endswith('.png')]"
   ]
  },
  {
   "cell_type": "code",
   "execution_count": 7,
   "metadata": {
    "collapsed": true
   },
   "outputs": [],
   "source": [
    "db_dict = {}"
   ]
  },
  {
   "cell_type": "code",
   "execution_count": 8,
   "metadata": {
    "collapsed": true
   },
   "outputs": [],
   "source": [
    "for i,j in enumerate(db):\n",
    "    fn = os.path.split(j['filename'])[1]\n",
    "    db_dict[fn] = i"
   ]
  },
  {
   "cell_type": "code",
   "execution_count": 9,
   "metadata": {
    "collapsed": true
   },
   "outputs": [],
   "source": [
    "img_cache = []\n",
    "mask_cache = []"
   ]
  },
  {
   "cell_type": "code",
   "execution_count": 10,
   "metadata": {
    "collapsed": true
   },
   "outputs": [],
   "source": [
    "for i in imgfiles:\n",
    "#     f = open(dat_path + '/' + i, 'rb')\n",
    "#     img = f.read()\n",
    "#     img = np.frombuffer(img, dtype=np.uint8)\n",
    "#     f.close()\n",
    "    \n",
    "    img = cv2.imread(dat_path + '/' + i)   \n",
    "    mask = cv2.imread(mask_path + '/' + i[:-4] + '.png', cv2.IMREAD_GRAYSCALE)\n",
    "    img_cache.append(img)\n",
    "    mask_cache.append(mask)"
   ]
  },
  {
   "cell_type": "code",
   "execution_count": 11,
   "metadata": {
    "collapsed": true
   },
   "outputs": [],
   "source": [
    "for i,fn in enumerate(imgfiles):\n",
    "    idx = db_dict[fn]\n",
    "    info = db[idx]\n",
    "    anno = info['annotations']\n",
    "    center_x = anno[0]['x']\n",
    "    center_y = anno[0]['y']\n",
    "    mark0_x = anno[1]['x']\n",
    "    mark0_y = anno[1]['y']\n",
    "    mark1_x = anno[2]['x']\n",
    "    mark1_y = anno[2]['y']\n",
    "    mark2_x = anno[3]['x']\n",
    "    mark2_y = anno[3]['y']\n",
    "    mark3_x = anno[4]['x']\n",
    "    mark3_y = anno[4]['y']\n",
    "    point_x = anno[5]['x']\n",
    "    point_y = anno[5]['y']\n",
    "    \n",
    "    x0 = info['rect']['x0']\n",
    "    y0 = info['rect']['y0']\n",
    "    x1 = info['rect']['x1']\n",
    "    y1 = info['rect']['y1']\n",
    "    ylb_type = info['type']\n",
    "\n",
    "    img = img_cache[i] #cv2.imdecode(img_cache[i], cv2.CV_LOAD_IMAGE_COLOR)\n",
    "    mask = mask_cache[i]\n",
    "    \n",
    "    \n",
    "    dst_w = 224.\n",
    "    dst_h = 224.\n",
    "    obj_w = x1 - x0\n",
    "    obj_h = y1 - y0\n",
    "    xc = (x0 + x1) / 2.\n",
    "    yc = (y0 + y1) / 2.\n",
    "    scale = dst_w / max(obj_w, obj_h)\n",
    "    \n",
    "    scale_jitter = random.uniform(0.75, 1.2)\n",
    "    scale *= scale_jitter\n",
    "    dst_w_jitter = random.uniform(-20,20)\n",
    "    dst_h_jitter = random.uniform(-20,20)\n",
    "    theta = random.uniform(0, 2*np.pi)\n",
    "    \n",
    "    \n",
    "    T0 = np.array([[1,0,-xc],[0,1,-yc],[0,0,1]])\n",
    "    S = np.array([[scale,0,0],[0, scale,0],[0,0,1]])\n",
    "    R = np.array([[np.cos(theta), np.sin(theta), 0], [-np.sin(theta), np.cos(theta), 0],[0,0,1]])\n",
    "    T1 = np.array([[1,0,dst_w/2. + dst_w_jitter],[0,1,dst_h/2. + dst_h_jitter],[0,0,1]])\n",
    "    M = np.dot(S, T0)\n",
    "    M = np.dot(R, M)\n",
    "    M = np.dot(T1, M)\n",
    "    M_warp = M[0:2,:]\n",
    "    \n",
    "    dst_img = cv2.warpAffine(img, M_warp, dsize=(int(dst_w), int(dst_h)))\n",
    "    \n",
    "    points = np.array([[center_x, center_y, 1],[mark0_x, mark0_y,1],\n",
    "                       [mark1_x, mark1_y,1], [mark2_x,mark2_y,1],[mark3_x,mark3_y,1]])\n",
    "                       \n",
    "    points2 = np.dot(points, M.transpose())\n",
    "    \n",
    "    #tmp = points2[:,2]\n",
    "    #tmp = tmp[:, np.newaxis]\n",
    "    #print(M, tmp)\n",
    "    #points2 = points2[:,:2] / tmp\n",
    "    #print(points2)\n",
    "    \n",
    "#     cv2.circle(dst_img, (int(points2[0,0]), int(points2[0,1])), 4, (0,255,0),3)\n",
    "#     cv2.circle(dst_img, (int(points2[1,0]), int(points2[1,1])), 4, (0,255,0),3)\n",
    "#     cv2.circle(dst_img, (int(points2[2,0]), int(points2[2,1])), 4, (0,255,0),3)\n",
    "#     cv2.circle(dst_img, (int(points2[3,0]), int(points2[3,1])), 4, (0,255,0),3)\n",
    "#     cv2.circle(dst_img, (int(points2[4,0]), int(points2[4,1])), 4, (0,255,0),3)\n",
    "\n",
    "    cv2.imwrite('./ylbres/' + fn, dst_img)\n",
    "    \n",
    "#     img = cv2.imread(dat_path + '/' + fn)\n",
    "    \n",
    "#     mask = cv2.imread(mask_path + '/' + fn[:-4] + '.png', cv2.IMREAD_GRAYSCALE)\n",
    "\n",
    "#     contours, hierarchy = cv2.findContours(mask,cv2.RETR_TREE,cv2.CHAIN_APPROX_SIMPLE)\n",
    "#     contour = contours[0][:,0,:]\n",
    "    \n",
    "#     xmin = np.min(contour[:,0])\n",
    "#     ymin = np.min(contour[:,1])\n",
    "#     xmax = np.max(contour[:,0])\n",
    "#     ymax = np.max(contour[:,1])\n",
    "\n",
    "#     info[u'rect'] = {u'x0': int(xmin), u'y0': int(ymin), u'x1': int(xmax), u'y1': int(ymax)}\n",
    "\n",
    "\n",
    "#     a = LineString([(center_x, center_y), (point_x, point_y)])\n",
    "#     red_line = LineString([(mark0_x,mark0_y), (mark1_x, mark1_y)])\n",
    "#     green_line = LineString([(mark1_x, mark1_y), (mark2_x,mark2_y)])\n",
    "#     yellow_line = LineString([(mark2_x,mark2_y), (mark3_x,mark3_y)])\n",
    "\n",
    "#     ylb_type = None\n",
    "    \n",
    "#     if a.intersects(red_line):\n",
    "#         cv2.putText(img, 'red', (10,44), 0, 2.4, (255,0,255))\n",
    "#         ylb_type = 0\n",
    "#     elif a.intersects(green_line):\n",
    "#         cv2.putText(img, 'green', (10,44), 0, 2.4, (255,0,255))\n",
    "#         ylb_type = 1\n",
    "#     elif a.intersects(yellow_line):\n",
    "#         cv2.putText(img, 'yellow', (10,44), 0, 2.4, (255,0,255))\n",
    "#         ylb_type = 2\n",
    "#     else:\n",
    "#         cv2.putText(img, 'red', (10,44), 0, 2.4, (255,0,255))\n",
    "#         ylb_type = 0\n",
    "\n",
    "#     info[u'type'] = ylb_type\n",
    "\n",
    "    \n",
    "    # ellipse = cv2.fitEllipse(contour)\n",
    "    \n",
    "#     px = mark0_x - center_x\n",
    "#     py = mark0_y - center_y\n",
    "#     angle = math.atan2(py, px)\n",
    "#     angle = angle * 180. / math.pi\n",
    "    \n",
    "#     cv2.putText(img, str(angle), (10,14), 0, 0.4, (255,0,255))\n",
    "    \n",
    "#     cv2.drawContours(img,contours,-1,(0,0,255),3)\n",
    "#     cv2.ellipse(img,ellipse,(0,0,255),2)\n",
    "\n",
    "#     cv2.putText(img, str(ylb_type), (10,44), 0, 2.4, (255,0,255))\n",
    "\n",
    "#     cv2.circle(img, (int(center_x), int(center_y)), 4, (0,255,0),3)\n",
    "#     cv2.circle(img, (int(mark0_x), int(mark0_y)), 4, (0,255,0),3)\n",
    "#     cv2.circle(img, (int(mark1_x), int(mark1_y)), 4, (0,255,0),3)\n",
    "#     cv2.circle(img, (int(mark2_x), int(mark2_y)), 4, (0,255,0),3)\n",
    "#     cv2.circle(img, (int(mark3_x), int(mark3_y)), 4, (0,255,0),3)\n",
    "#     cv2.circle(img, (int(point_x), int(point_y)), 4, (0,255,0),3)\n",
    "#     cv2.line(img, (int(center_x), int(center_y)), (int(mark0_x), int(mark0_y)), (0,255,255),3)\n",
    "#     cv2.line(img, (int(center_x), int(center_y)), (int(point_x), int(point_y)), (0,0,255),3)\n",
    "    \n",
    "#     cv2.line(img, (int(mark0_x), int(mark0_y)), (int(mark1_x), int(mark1_y)), (0,0,255),3)\n",
    "#     cv2.line(img, (int(mark1_x), int(mark1_y)), (int(mark2_x), int(mark2_y)), (0,0,255),3)\n",
    "#     cv2.line(img, (int(mark2_x), int(mark2_y)), (int(mark3_x), int(mark3_y)), (0,0,255),3)\n",
    "\n",
    "#     cv2.rectangle(img, (int(x0), int(y0)), (int(x1), int(y1)), (0,255,0),3)\n",
    "\n",
    "#     cv2.imwrite('./ylbres/' + fn, img)"
   ]
  },
  {
   "cell_type": "code",
   "execution_count": null,
   "metadata": {
    "collapsed": true
   },
   "outputs": [],
   "source": []
  },
  {
   "cell_type": "code",
   "execution_count": null,
   "metadata": {
    "collapsed": true
   },
   "outputs": [],
   "source": []
  },
  {
   "cell_type": "code",
   "execution_count": null,
   "metadata": {
    "collapsed": true
   },
   "outputs": [],
   "source": []
  },
  {
   "cell_type": "code",
   "execution_count": null,
   "metadata": {
    "collapsed": true
   },
   "outputs": [],
   "source": []
  },
  {
   "cell_type": "code",
   "execution_count": 12,
   "metadata": {
    "collapsed": true,
    "scrolled": true
   },
   "outputs": [],
   "source": [
    "with open(dat_path + '/bj2.json', 'w') as f:\n",
    "    json.dump(db, f)"
   ]
  },
  {
   "cell_type": "code",
   "execution_count": null,
   "metadata": {
    "collapsed": true
   },
   "outputs": [],
   "source": []
  },
  {
   "cell_type": "code",
   "execution_count": null,
   "metadata": {
    "collapsed": true
   },
   "outputs": [],
   "source": []
  },
  {
   "cell_type": "code",
   "execution_count": null,
   "metadata": {
    "collapsed": true
   },
   "outputs": [],
   "source": []
  },
  {
   "cell_type": "code",
   "execution_count": null,
   "metadata": {
    "collapsed": true
   },
   "outputs": [],
   "source": []
  }
 ],
 "metadata": {
  "kernelspec": {
   "display_name": "Python 2",
   "language": "python",
   "name": "python2"
  },
  "language_info": {
   "codemirror_mode": {
    "name": "ipython",
    "version": 2
   },
   "file_extension": ".py",
   "mimetype": "text/x-python",
   "name": "python",
   "nbconvert_exporter": "python",
   "pygments_lexer": "ipython2",
   "version": "2.7.12"
  }
 },
 "nbformat": 4,
 "nbformat_minor": 2
}
